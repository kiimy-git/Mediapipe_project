{
  "nbformat": 4,
  "nbformat_minor": 0,
  "metadata": {
    "colab": {
      "name": "Untitled11.ipynb의 사본",
      "provenance": []
    },
    "kernelspec": {
      "name": "python3",
      "display_name": "Python 3"
    },
    "language_info": {
      "name": "python"
    },
    "accelerator": "GPU"
  },
  "cells": [
    {
      "cell_type": "code",
      "metadata": {
        "id": "C74g0XiQ_Hvj"
      },
      "source": [
        "import numpy as np\n",
        "from tensorflow.keras.models import Sequential\n",
        "from tensorflow.keras.layers import LSTM, Dense\n",
        "from tensorflow.keras.utils import to_categorical, plot_model\n",
        "from tensorflow.keras.callbacks import ModelCheckpoint, EarlyStopping\n",
        "from tensorflow.keras.models import load_model\n",
        "from sklearn.model_selection import train_test_split"
      ],
      "execution_count": 1,
      "outputs": []
    },
    {
      "cell_type": "code",
      "metadata": {
        "colab": {
          "base_uri": "https://localhost:8080/"
        },
        "id": "Jq_BZHP86ww0",
        "outputId": "a442306c-365d-499e-9c8a-a34294104eef"
      },
      "source": [
        "# seq_data for LSTM\n",
        "actions = [\n",
        "           'rock',\n",
        "           'scissors',\n",
        "           'paper'\n",
        "]\n",
        "\n",
        "data = np.concatenate([\n",
        "                       np.load('/content/drive/MyDrive/Mediapipe data/seq_rock_1634267024.npy'),\n",
        "                       np.load('/content/drive/MyDrive/Mediapipe data/seq_scissors_1634267024.npy'),\n",
        "                       np.load('/content/drive/MyDrive/Mediapipe data/seq_paper_1634267024.npy')\n",
        "], axis=0)\n",
        "'''\n",
        "\n",
        "rock (871, 30, 100)\n",
        "\n",
        "scissors (872, 30, 100)\n",
        "\n",
        "paper (863, 30, 100)\n",
        "'''\n",
        "\n",
        "data.shape"
      ],
      "execution_count": 2,
      "outputs": [
        {
          "output_type": "execute_result",
          "data": {
            "text/plain": [
              "(2606, 30, 100)"
            ]
          },
          "metadata": {},
          "execution_count": 2
        }
      ]
    },
    {
      "cell_type": "code",
      "metadata": {
        "colab": {
          "base_uri": "https://localhost:8080/"
        },
        "id": "DeZiNFq_-flr",
        "outputId": "0e323094-c6d7-40ad-e2e8-d397f12bbe65"
      },
      "source": [
        "np.load('/content/drive/MyDrive/Mediapipe data/seq_rock_1634267024.npy')[1]"
      ],
      "execution_count": null,
      "outputs": [
        {
          "output_type": "execute_result",
          "data": {
            "text/plain": [
              "array([[ 0.69555861,  0.69363856,  0.        , ..., 92.98734283,\n",
              "        70.88996887,  0.        ],\n",
              "       [ 0.69543427,  0.70178771,  0.        , ..., 95.82356262,\n",
              "        65.22275543,  0.        ],\n",
              "       [ 0.69347948,  0.70475602,  0.        , ..., 91.08642578,\n",
              "        66.89812469,  0.        ],\n",
              "       ...,\n",
              "       [ 0.70497614,  0.72212875,  0.        , ..., 79.53955841,\n",
              "        95.42293549,  0.        ],\n",
              "       [ 0.70244306,  0.72867149,  0.        , ..., 78.78663635,\n",
              "        92.08789062,  0.        ],\n",
              "       [ 0.70253354,  0.72403693,  0.        , ..., 88.99760437,\n",
              "        84.28774261,  0.        ]])"
            ]
          },
          "metadata": {},
          "execution_count": 6
        }
      ]
    },
    {
      "cell_type": "code",
      "metadata": {
        "colab": {
          "base_uri": "https://localhost:8080/"
        },
        "id": "CKcyqxCF84gG",
        "outputId": "1bd4a95b-f77b-462c-c8d7-f05fcfa7c5f7"
      },
      "source": [
        "# numpy array (= 21개의 랜드마크 visibility, 15개의 손가락 각도, 63개의 랜드마크 데이터 )\n",
        "X_data = data[:, :, :-1]\n",
        "\n",
        "# labels = [0., 1., 2.]\n",
        "labels = data[:, 0, -1]\n",
        "\n",
        "print(X_data.shape, labels.shape)"
      ],
      "execution_count": 3,
      "outputs": [
        {
          "output_type": "stream",
          "name": "stdout",
          "text": [
            "(2606, 30, 99) (2606,)\n"
          ]
        }
      ]
    },
    {
      "cell_type": "code",
      "metadata": {
        "colab": {
          "base_uri": "https://localhost:8080/"
        },
        "id": "6ozqWPG0K3D2",
        "outputId": "753ce537-5d8e-426d-eea5-70488104e56a"
      },
      "source": [
        "labels"
      ],
      "execution_count": 4,
      "outputs": [
        {
          "output_type": "execute_result",
          "data": {
            "text/plain": [
              "array([0., 0., 0., ..., 2., 2., 2.])"
            ]
          },
          "metadata": {},
          "execution_count": 4
        }
      ]
    },
    {
      "cell_type": "code",
      "metadata": {
        "colab": {
          "base_uri": "https://localhost:8080/"
        },
        "id": "-sN0edeO9uyC",
        "outputId": "ae6d1b7f-76d2-4862-a155-fb9e425aee18"
      },
      "source": [
        "# labels to_categorical( num_classes= total number of class, dtype = float32 default)\n",
        "\n",
        "y_data = to_categorical(labels, num_classes=len(actions))\n",
        "print(y_data)\n",
        "print(y_data.shape)"
      ],
      "execution_count": null,
      "outputs": [
        {
          "output_type": "stream",
          "name": "stdout",
          "text": [
            "[[1. 0. 0.]\n",
            " [1. 0. 0.]\n",
            " [1. 0. 0.]\n",
            " ...\n",
            " [0. 0. 1.]\n",
            " [0. 0. 1.]\n",
            " [0. 0. 1.]]\n",
            "(2606, 3)\n"
          ]
        }
      ]
    },
    {
      "cell_type": "code",
      "metadata": {
        "colab": {
          "base_uri": "https://localhost:8080/"
        },
        "id": "4EknwC2N-_E6",
        "outputId": "8560174a-a720-45d4-823e-1d010db84258"
      },
      "source": [
        "# ML모델 연산을 위해서 float64 -> float32\n",
        "X_data = X_data.astype(np.float32)\n",
        "#y_data = y_data.astype(np.float32)\n",
        "\n",
        "# train, test split\n",
        "X_train, X_test, y_train, y_test = train_test_split(X_data, y_data, test_size=.1, random_state=7)\n",
        "\n",
        "# shape\n",
        "print(X_train.shape, y_train.shape)\n",
        "print(X_test.shape, y_test.shape)"
      ],
      "execution_count": null,
      "outputs": [
        {
          "output_type": "stream",
          "name": "stdout",
          "text": [
            "(2345, 30, 99) (2345, 3)\n",
            "(261, 30, 99) (261, 3)\n"
          ]
        }
      ]
    },
    {
      "cell_type": "code",
      "metadata": {
        "colab": {
          "base_uri": "https://localhost:8080/"
        },
        "id": "SPbEmz20BuqP",
        "outputId": "ebde30d8-d4ac-4c66-f050-6b4d96c028f5"
      },
      "source": [
        "# LSTM\n",
        "model = Sequential([\n",
        "                    LSTM(64, activation='relu', input_shape=X_train.shape[1:3]),\n",
        "                    Dense(32, activation='relu'),\n",
        "                    Dense(3, activation='softmax')\n",
        "])\n",
        "                    \n",
        "model.compile(optimizer='adam', loss='categorical_crossentropy', metrics=['acc'])\n",
        "model.summary()"
      ],
      "execution_count": null,
      "outputs": [
        {
          "output_type": "stream",
          "name": "stdout",
          "text": [
            "WARNING:tensorflow:Layer lstm_5 will not use cuDNN kernels since it doesn't meet the criteria. It will use a generic GPU kernel as fallback when running on GPU.\n",
            "Model: \"sequential_5\"\n",
            "_________________________________________________________________\n",
            "Layer (type)                 Output Shape              Param #   \n",
            "=================================================================\n",
            "lstm_5 (LSTM)                (None, 64)                41984     \n",
            "_________________________________________________________________\n",
            "dense_10 (Dense)             (None, 32)                2080      \n",
            "_________________________________________________________________\n",
            "dense_11 (Dense)             (None, 3)                 99        \n",
            "=================================================================\n",
            "Total params: 44,163\n",
            "Trainable params: 44,163\n",
            "Non-trainable params: 0\n",
            "_________________________________________________________________\n"
          ]
        }
      ]
    },
    {
      "cell_type": "code",
      "metadata": {
        "colab": {
          "base_uri": "https://localhost:8080/",
          "height": 422
        },
        "id": "agFoQ3wDI6eM",
        "outputId": "7f1ce3ab-fc53-4504-a1a8-937460ad9c58"
      },
      "source": [
        "plot_model(model, show_shapes=True)"
      ],
      "execution_count": null,
      "outputs": [
        {
          "output_type": "execute_result",
          "data": {
            "image/png": "[encoded data removed]",
            "text/plain": [
              "<IPython.core.display.Image object>"
            ]
          },
          "metadata": {},
          "execution_count": 48
        }
      ]
    },
    {
      "cell_type": "code",
      "metadata": {
        "colab": {
          "base_uri": "https://localhost:8080/"
        },
        "id": "JN90gWxDFA8Q",
        "outputId": "940d85b9-bfdf-4ca4-8541-e2305d5fc9ad"
      },
      "source": [
        "# 학습한 모델 저장\n",
        "cheak_point = ModelCheckpoint('LSTM_Model.h5',\n",
        "                              monitor='val_acc',   # val_acc 값이 개선되었을때 호출\n",
        "                              verbose=1,            # 로그를 출력\n",
        "                              save_best_only=True,  # 가장 best 값만 저장\n",
        "                              mode='auto')           # auto는 알아서 best 찾는다 min/max\n",
        "\n",
        "early_stop = EarlyStopping(monitor='val_acc',min_delta=0.0001, patience=3)\n",
        "\n",
        "history = model.fit(X_train, y_train, validation_data=(X_test,y_test), epochs=100,\n",
        "                    callbacks=[cheak_point, early_stop])"
      ],
      "execution_count": null,
      "outputs": [
        {
          "output_type": "stream",
          "name": "stdout",
          "text": [
            "Epoch 1/100\n",
            "74/74 [==============================] - 7s 92ms/step - loss: 1.3002e-07 - acc: 1.0000 - val_loss: 0.0466 - val_acc: 0.9962\n",
            "\n",
            "Epoch 00001: val_acc improved from -inf to 0.99617, saving model to LSTM_Model.h5\n",
            "Epoch 2/100\n",
            "74/74 [==============================] - 7s 92ms/step - loss: 1.2590e-07 - acc: 1.0000 - val_loss: 0.0466 - val_acc: 0.9962\n",
            "\n",
            "Epoch 00002: val_acc did not improve from 0.99617\n",
            "Epoch 3/100\n",
            "74/74 [==============================] - 7s 93ms/step - loss: 1.2169e-07 - acc: 1.0000 - val_loss: 0.0466 - val_acc: 0.9962\n",
            "\n",
            "Epoch 00003: val_acc did not improve from 0.99617\n",
            "Epoch 4/100\n",
            "74/74 [==============================] - 7s 88ms/step - loss: 1.1787e-07 - acc: 1.0000 - val_loss: 0.0466 - val_acc: 0.9962\n",
            "\n",
            "Epoch 00004: val_acc did not improve from 0.99617\n"
          ]
        }
      ]
    },
    {
      "cell_type": "code",
      "metadata": {
        "colab": {
          "base_uri": "https://localhost:8080/"
        },
        "id": "J6eTUA_dbky8",
        "outputId": "581d8cad-81d2-467f-de1f-886d3bcd1bd6"
      },
      "source": [
        "# early_stop 사용 X\n",
        "cheak_point = ModelCheckpoint('LSTM_Model2.h5',\n",
        "                              monitor='val_acc',   # val_acc 값이 개선되었을때 호출\n",
        "                              verbose=1,            # 로그를 출력\n",
        "                              save_best_only=True,  # 가장 best 값만 저장\n",
        "                              mode='auto')           # auto는 알아서 best 찾는다 min/max\n",
        "\n",
        "history = model.fit(X_train, y_train, validation_data=(X_test,y_test), epochs=30,\n",
        "                    callbacks=[cheak_point])"
      ],
      "execution_count": null,
      "outputs": [
        {
          "output_type": "stream",
          "name": "stdout",
          "text": [
            "Epoch 1/30\n",
            "74/74 [==============================] - 8s 97ms/step - loss: 47.8951 - acc: 0.6486 - val_loss: 24.8644 - val_acc: 0.7510\n",
            "\n",
            "Epoch 00001: val_acc improved from -inf to 0.75096, saving model to LSTM_Model2.h5\n",
            "Epoch 2/30\n",
            "74/74 [==============================] - 7s 92ms/step - loss: 22.4987 - acc: 0.6299 - val_loss: 4.8023 - val_acc: 0.8659\n",
            "\n",
            "Epoch 00002: val_acc improved from 0.75096 to 0.86590, saving model to LSTM_Model2.h5\n",
            "Epoch 3/30\n",
            "74/74 [==============================] - 7s 92ms/step - loss: 8.1256 - acc: 0.7574 - val_loss: 9.0694 - val_acc: 0.7701\n",
            "\n",
            "Epoch 00003: val_acc did not improve from 0.86590\n",
            "Epoch 4/30\n",
            "74/74 [==============================] - 6s 88ms/step - loss: 8.8013 - acc: 0.7936 - val_loss: 2.0943 - val_acc: 0.7854\n",
            "\n",
            "Epoch 00004: val_acc did not improve from 0.86590\n",
            "Epoch 5/30\n",
            "74/74 [==============================] - 7s 90ms/step - loss: 0.7976 - acc: 0.9049 - val_loss: 0.8967 - val_acc: 0.8123\n",
            "\n",
            "Epoch 00005: val_acc did not improve from 0.86590\n",
            "Epoch 6/30\n",
            "74/74 [==============================] - 7s 93ms/step - loss: 0.9217 - acc: 0.9156 - val_loss: 0.1831 - val_acc: 0.9885\n",
            "\n",
            "Epoch 00006: val_acc improved from 0.86590 to 0.98851, saving model to LSTM_Model2.h5\n",
            "Epoch 7/30\n",
            "74/74 [==============================] - 7s 92ms/step - loss: 0.1875 - acc: 0.9684 - val_loss: 0.0591 - val_acc: 0.9885\n",
            "\n",
            "Epoch 00007: val_acc did not improve from 0.98851\n",
            "Epoch 8/30\n",
            "74/74 [==============================] - 7s 91ms/step - loss: 0.0352 - acc: 0.9932 - val_loss: 0.1760 - val_acc: 0.9885\n",
            "\n",
            "Epoch 00008: val_acc did not improve from 0.98851\n",
            "Epoch 9/30\n",
            "74/74 [==============================] - 7s 94ms/step - loss: 0.1303 - acc: 0.9723 - val_loss: 0.1404 - val_acc: 0.9502\n",
            "\n",
            "Epoch 00009: val_acc did not improve from 0.98851\n",
            "Epoch 10/30\n",
            "74/74 [==============================] - 7s 93ms/step - loss: 0.0864 - acc: 0.9774 - val_loss: 0.0240 - val_acc: 0.9962\n",
            "\n",
            "Epoch 00010: val_acc improved from 0.98851 to 0.99617, saving model to LSTM_Model2.h5\n",
            "Epoch 11/30\n",
            "74/74 [==============================] - 7s 91ms/step - loss: 0.1154 - acc: 0.9744 - val_loss: 0.0275 - val_acc: 0.9847\n",
            "\n",
            "Epoch 00011: val_acc did not improve from 0.99617\n",
            "Epoch 12/30\n",
            "74/74 [==============================] - 7s 91ms/step - loss: 0.0483 - acc: 0.9846 - val_loss: 0.0801 - val_acc: 0.9885\n",
            "\n",
            "Epoch 00012: val_acc did not improve from 0.99617\n",
            "Epoch 13/30\n",
            "74/74 [==============================] - 7s 89ms/step - loss: 0.0649 - acc: 0.9846 - val_loss: 0.0463 - val_acc: 0.9693\n",
            "\n",
            "Epoch 00013: val_acc did not improve from 0.99617\n",
            "Epoch 14/30\n",
            "74/74 [==============================] - 7s 90ms/step - loss: 0.0325 - acc: 0.9898 - val_loss: 0.0405 - val_acc: 0.9732\n",
            "\n",
            "Epoch 00014: val_acc did not improve from 0.99617\n",
            "Epoch 15/30\n",
            "74/74 [==============================] - 7s 91ms/step - loss: 0.1556 - acc: 0.9765 - val_loss: 0.0128 - val_acc: 1.0000\n",
            "\n",
            "Epoch 00015: val_acc improved from 0.99617 to 1.00000, saving model to LSTM_Model2.h5\n",
            "Epoch 16/30\n",
            "74/74 [==============================] - 7s 90ms/step - loss: 0.0174 - acc: 0.9932 - val_loss: 0.0195 - val_acc: 0.9923\n",
            "\n",
            "Epoch 00016: val_acc did not improve from 1.00000\n",
            "Epoch 17/30\n",
            "74/74 [==============================] - 7s 90ms/step - loss: 0.0216 - acc: 0.9928 - val_loss: 0.0206 - val_acc: 0.9962\n",
            "\n",
            "Epoch 00017: val_acc did not improve from 1.00000\n",
            "Epoch 18/30\n",
            "74/74 [==============================] - 7s 91ms/step - loss: 0.0247 - acc: 0.9919 - val_loss: 0.0340 - val_acc: 0.9770\n",
            "\n",
            "Epoch 00018: val_acc did not improve from 1.00000\n",
            "Epoch 19/30\n",
            "74/74 [==============================] - 7s 92ms/step - loss: 0.0524 - acc: 0.9842 - val_loss: 0.0258 - val_acc: 0.9885\n",
            "\n",
            "Epoch 00019: val_acc did not improve from 1.00000\n",
            "Epoch 20/30\n",
            "74/74 [==============================] - 7s 91ms/step - loss: 0.0171 - acc: 0.9936 - val_loss: 0.0379 - val_acc: 0.9732\n",
            "\n",
            "Epoch 00020: val_acc did not improve from 1.00000\n",
            "Epoch 21/30\n",
            "74/74 [==============================] - 7s 90ms/step - loss: 0.0503 - acc: 0.9864 - val_loss: 0.5043 - val_acc: 0.9770\n",
            "\n",
            "Epoch 00021: val_acc did not improve from 1.00000\n",
            "Epoch 22/30\n",
            "74/74 [==============================] - 7s 91ms/step - loss: 0.6394 - acc: 0.9505 - val_loss: 0.0400 - val_acc: 0.9885\n",
            "\n",
            "Epoch 00022: val_acc did not improve from 1.00000\n",
            "Epoch 23/30\n",
            "74/74 [==============================] - 7s 90ms/step - loss: 0.0210 - acc: 0.9949 - val_loss: 7.3168e-04 - val_acc: 1.0000\n",
            "\n",
            "Epoch 00023: val_acc did not improve from 1.00000\n",
            "Epoch 24/30\n",
            "74/74 [==============================] - 7s 92ms/step - loss: 0.0236 - acc: 0.9932 - val_loss: 0.0225 - val_acc: 0.9923\n",
            "\n",
            "Epoch 00024: val_acc did not improve from 1.00000\n",
            "Epoch 25/30\n",
            "74/74 [==============================] - 7s 88ms/step - loss: 0.0188 - acc: 0.9962 - val_loss: 0.0148 - val_acc: 0.9962\n",
            "\n",
            "Epoch 00025: val_acc did not improve from 1.00000\n",
            "Epoch 26/30\n",
            "74/74 [==============================] - 7s 89ms/step - loss: 0.0106 - acc: 0.9953 - val_loss: 0.0031 - val_acc: 0.9962\n",
            "\n",
            "Epoch 00026: val_acc did not improve from 1.00000\n",
            "Epoch 27/30\n",
            "74/74 [==============================] - 7s 89ms/step - loss: 1.6275 - acc: 0.9075 - val_loss: 3.7204 - val_acc: 0.7126\n",
            "\n",
            "Epoch 00027: val_acc did not improve from 1.00000\n",
            "Epoch 28/30\n",
            "74/74 [==============================] - 7s 89ms/step - loss: 0.3233 - acc: 0.9471 - val_loss: 0.0135 - val_acc: 1.0000\n",
            "\n",
            "Epoch 00028: val_acc did not improve from 1.00000\n",
            "Epoch 29/30\n",
            "74/74 [==============================] - 7s 91ms/step - loss: 0.0299 - acc: 0.9945 - val_loss: 0.0461 - val_acc: 0.9885\n",
            "\n",
            "Epoch 00029: val_acc did not improve from 1.00000\n",
            "Epoch 30/30\n",
            "74/74 [==============================] - 7s 91ms/step - loss: 0.0162 - acc: 0.9970 - val_loss: 0.0040 - val_acc: 0.9962\n",
            "\n",
            "Epoch 00030: val_acc did not improve from 1.00000\n"
          ]
        }
      ]
    },
    {
      "cell_type": "code",
      "metadata": {
        "colab": {
          "base_uri": "https://localhost:8080/",
          "height": 607
        },
        "id": "zfbaY-NdgJYZ",
        "outputId": "933c0cdc-7372-4f20-dc03-6b2e47adb45e"
      },
      "source": [
        "fig, ax = plt.subplots(figsize=(15,10))\n",
        "# y축에 acc범례 추가(legend 한번 더 추가)\n",
        "acc_ax = ax.twinx()\n",
        "ax.plot(history.history['loss'], color='green', label='train_loss')\n",
        "ax.plot(history.history['val_loss'], label='val_loss')\n",
        "ax.set_xlabel('epoch')\n",
        "ax.set_ylabel('loss')\n",
        "ax.legend()\n",
        "\n",
        "acc_ax.plot(history.history['acc'], color= 'red', label='acc')\n",
        "acc_ax.plot(history.history['val_acc'], color='blue', label='val_acc')\n",
        "acc_ax.set_ylabel('accuracy')\n",
        "acc_ax.legend()\n",
        "plt.show()"
      ],
      "execution_count": null,
      "outputs": [
        {
          "output_type": "display_data",
          "data": {
            "image/png": "[encoded data removed]",
            "text/plain": [
              "<Figure size 1080x720 with 2 Axes>"
            ]
          },
          "metadata": {
            "needs_background": "light"
          }
        }
      ]
    },
    {
      "cell_type": "code",
      "metadata": {
        "colab": {
          "base_uri": "https://localhost:8080/"
        },
        "id": "gZuj6HTfSbQp",
        "outputId": "43a1a8ee-4835-4b78-e5a7-285151f24ff1"
      },
      "source": [
        "# acc 99% 나옴, early_stop 사용 안 할 시 acc 100%\n",
        "# 다중 레이블의 경우에는 multilabel confusion matrix 사용\n",
        "from sklearn.metrics import multilabel_confusion_matrix\n",
        "import matplotlib.pyplot as plt\n",
        "\n",
        "# early stop\n",
        "model = load_model('LSTM_Model.h5')\n",
        "# early stop X\n",
        "model2 = load_model('LSTM_Model2.h5')\n",
        "\n",
        "y_pred = model.predict(X_test)\n",
        "y_pred2 = model2.predict(X_test)"
      ],
      "execution_count": null,
      "outputs": [
        {
          "output_type": "stream",
          "name": "stdout",
          "text": [
            "WARNING:tensorflow:Layer lstm_4 will not use cuDNN kernels since it doesn't meet the criteria. It will use a generic GPU kernel as fallback when running on GPU.\n",
            "WARNING:tensorflow:Layer lstm_5 will not use cuDNN kernels since it doesn't meet the criteria. It will use a generic GPU kernel as fallback when running on GPU.\n"
          ]
        }
      ]
    },
    {
      "cell_type": "code",
      "metadata": {
        "id": "8wYQBE0OTEgo"
      },
      "source": [
        "# confusion matrix는 원-핫 인코딩된 벡터가 아닌 한 자리 숫자로 필요\n",
        "# y_test는 여전히 원-핫 인코딩되어 있고 \n",
        "# y_pred에서 확률이 높은것만 비교하면 되기때문에 배열의 데이터 중 최대값의 인덱스를 반환\n",
        "# axis= 0,1,2(= x축, y축, z축)\n",
        "'''\n",
        "array([[0, 1, 2],\n",
        "       [3, 4, 5]])\n",
        ">>> np.argmax(a)\n",
        "5\n",
        ">>> np.argmax(a, axis=0)\n",
        "array([1, 1, 1])\n",
        ">>> np.argmax(a, axis=1)\n",
        "array([2, 2])\n",
        "'''\n",
        "# early stop\n",
        "y_pred_max=np.argmax(y_pred, axis=1)\n",
        "y_test_max=np.argmax(y_test, axis=1)\n",
        "# early stop X\n",
        "y_pred_max2=np.argmax(y_pred2, axis=1)\n",
        "y_test_max2=np.argmax(y_test, axis=1)"
      ],
      "execution_count": null,
      "outputs": []
    },
    {
      "cell_type": "code",
      "metadata": {
        "colab": {
          "base_uri": "https://localhost:8080/"
        },
        "id": "k-CCogEmYZSo",
        "outputId": "e921aed1-1dad-4348-eb00-6f598671338c"
      },
      "source": [
        "# x축 model predict value / y축 True label value\n",
        "multilabel_confusion_matrix(y_test_max, y_pred_max)"
      ],
      "execution_count": null,
      "outputs": [
        {
          "output_type": "execute_result",
          "data": {
            "text/plain": [
              "array([[[171,   0],\n",
              "        [  1,  89]],\n",
              "\n",
              "       [[175,   1],\n",
              "        [  0,  85]],\n",
              "\n",
              "       [[175,   0],\n",
              "        [  0,  86]]])"
            ]
          },
          "metadata": {},
          "execution_count": 138
        }
      ]
    },
    {
      "cell_type": "code",
      "metadata": {
        "colab": {
          "base_uri": "https://localhost:8080/"
        },
        "id": "1X9dDPpCdNuc",
        "outputId": "0c348b1b-bdd5-454d-949b-a9c6623e82ee"
      },
      "source": [
        "multilabel_confusion_matrix(y_test_max2, y_pred_max2)"
      ],
      "execution_count": null,
      "outputs": [
        {
          "output_type": "execute_result",
          "data": {
            "text/plain": [
              "array([[[171,   0],\n",
              "        [  0,  90]],\n",
              "\n",
              "       [[176,   0],\n",
              "        [  0,  85]],\n",
              "\n",
              "       [[175,   0],\n",
              "        [  0,  86]]])"
            ]
          },
          "metadata": {},
          "execution_count": 136
        }
      ]
    }
  ]
}