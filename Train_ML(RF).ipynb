{
  "nbformat": 4,
  "nbformat_minor": 0,
  "metadata": {
    "colab": {
      "name": "Untitled12.ipynb",
      "provenance": []
    },
    "kernelspec": {
      "name": "python3",
      "display_name": "Python 3"
    },
    "language_info": {
      "name": "python"
    }
  },
  "cells": [
    {
      "cell_type": "code",
      "metadata": {
        "colab": {
          "base_uri": "https://localhost:8080/"
        },
        "id": "icKbGDz2QxaX",
        "outputId": "398e0c9a-11f2-4447-d49c-c5f88fe7da0a"
      },
      "source": [
        "!pip install xgboost"
      ],
      "execution_count": 30,
      "outputs": [
        {
          "output_type": "stream",
          "name": "stdout",
          "text": [
            "Requirement already satisfied: xgboost in /usr/local/lib/python3.7/dist-packages (0.90)\n",
            "Requirement already satisfied: numpy in /usr/local/lib/python3.7/dist-packages (from xgboost) (1.19.5)\n",
            "Requirement already satisfied: scipy in /usr/local/lib/python3.7/dist-packages (from xgboost) (1.4.1)\n"
          ]
        }
      ]
    },
    {
      "cell_type": "code",
      "metadata": {
        "id": "9JWGxVfTOP7c"
      },
      "source": [
        "import numpy as np\n",
        "from tensorflow.keras.models import load_model\n",
        "from sklearn.model_selection import train_test_split\n",
        "from sklearn.pipeline import make_pipeline \n",
        "from sklearn.preprocessing import StandardScaler \n",
        "from sklearn.linear_model import LogisticRegression, RidgeClassifier\n",
        "from sklearn.ensemble import RandomForestClassifier\n",
        "from xgboost import XGBClassifier"
      ],
      "execution_count": 33,
      "outputs": []
    },
    {
      "cell_type": "code",
      "metadata": {
        "colab": {
          "base_uri": "https://localhost:8080/",
          "height": 287
        },
        "id": "FAzd3cN8OUx_",
        "outputId": "2d2694dc-1bc9-4d0b-d7b6-a5e178ae46bd"
      },
      "source": [
        "# raw_data 사용시(= 각 행 마지막 index == label)\n",
        "# ML 사용\n",
        "\n",
        "raw_data = np.concatenate([\n",
        "                       np.load('/content/drive/MyDrive/Mediapipe data/raw_paper_1634267024.npy'),\n",
        "                       np.load('/content/drive/MyDrive/Mediapipe data/raw_rock_1634267024.npy'),\n",
        "                       np.load('/content/drive/MyDrive/Mediapipe data/raw_scissors_1634267024.npy')\n",
        "], axis=0)\n",
        "\n",
        "print(raw_data.shape)\n",
        "print(raw_data)\n",
        "'''\n",
        "  rock (901, 100)\n",
        "\n",
        "  scissors (902, 100)\n",
        "\n",
        "  paper (893, 100)\n",
        "'''"
      ],
      "execution_count": 8,
      "outputs": [
        {
          "output_type": "stream",
          "name": "stdout",
          "text": [
            "(2696, 100)\n",
            "[[ 0.75446624  1.01397312  0.         ...  6.92810869  3.24649644\n",
            "   2.        ]\n",
            " [ 0.75066137  1.03775978  0.         ...  5.2918396   2.79375291\n",
            "   2.        ]\n",
            " [ 0.7480461   1.05291021  0.         ...  3.67776084  3.28804088\n",
            "   2.        ]\n",
            " ...\n",
            " [ 0.81067729  0.87604946  0.         ... 62.38299179 16.34757614\n",
            "   1.        ]\n",
            " [ 0.81032497  0.87931526  0.         ... 63.03445435 16.04698563\n",
            "   1.        ]\n",
            " [ 0.81038213  0.88047075  0.         ... 61.13607788 20.14011192\n",
            "   1.        ]]\n"
          ]
        },
        {
          "output_type": "execute_result",
          "data": {
            "application/vnd.google.colaboratory.intrinsic+json": {
              "type": "string"
            },
            "text/plain": [
              "'\\n  rock (901, 100)\\n\\n  scissors (902, 100)\\n\\n  paper (893, 100)\\n'"
            ]
          },
          "metadata": {},
          "execution_count": 8
        }
      ]
    },
    {
      "cell_type": "code",
      "metadata": {
        "id": "Qlv9AtL9OxQT"
      },
      "source": [
        "# features와 target 분리\n",
        "feature = raw_data[:, :-1]\n",
        "target= raw_data[:,-1]"
      ],
      "execution_count": 23,
      "outputs": []
    },
    {
      "cell_type": "code",
      "metadata": {
        "colab": {
          "base_uri": "https://localhost:8080/"
        },
        "id": "c5CiXM4XPuI7",
        "outputId": "f5d362eb-4762-400c-dc6f-6fc4f66ebbb0"
      },
      "source": [
        "X_train, X_test, y_train, y_test = train_test_split(feature, target, test_size=.2, random_state=1)\n",
        "\n",
        "print(X_train.shape, y_train.shape)\n",
        "print()\n",
        "print(X_test.shape, y_test.shape)"
      ],
      "execution_count": 25,
      "outputs": [
        {
          "output_type": "stream",
          "name": "stdout",
          "text": [
            "(2156, 99) (2156,)\n",
            "\n",
            "(540, 99) (540,)\n"
          ]
        }
      ]
    },
    {
      "cell_type": "code",
      "metadata": {
        "id": "qPX_8TRNQKyX"
      },
      "source": [
        "pipelines = {\n",
        "    'lr':make_pipeline(StandardScaler(), LogisticRegression()),\n",
        "    'rc':make_pipeline(StandardScaler(), RidgeClassifier()),\n",
        "    'rf':make_pipeline(StandardScaler(), RandomForestClassifier()),\n",
        "    'xgb':make_pipeline(StandardScaler(), XGBClassifier()),\n",
        "}"
      ],
      "execution_count": 37,
      "outputs": []
    },
    {
      "cell_type": "code",
      "metadata": {
        "id": "JLf8ucy_QLhH"
      },
      "source": [
        "fit_models= {}\n",
        "for models, pipeline in pipelines.items():\n",
        "  model = pipeline.fit(X_train, y_train)\n",
        "  fit_models[models] = model"
      ],
      "execution_count": 38,
      "outputs": []
    },
    {
      "cell_type": "code",
      "metadata": {
        "colab": {
          "base_uri": "https://localhost:8080/"
        },
        "id": "QOl5jTWOQoNq",
        "outputId": "f5fbfb13-0800-423d-9005-57c0799de4db"
      },
      "source": [
        "fit_models"
      ],
      "execution_count": 39,
      "outputs": [
        {
          "output_type": "execute_result",
          "data": {
            "text/plain": [
              "{'lr': Pipeline(memory=None,\n",
              "          steps=[('standardscaler',\n",
              "                  StandardScaler(copy=True, with_mean=True, with_std=True)),\n",
              "                 ('logisticregression',\n",
              "                  LogisticRegression(C=1.0, class_weight=None, dual=False,\n",
              "                                     fit_intercept=True, intercept_scaling=1,\n",
              "                                     l1_ratio=None, max_iter=100,\n",
              "                                     multi_class='auto', n_jobs=None,\n",
              "                                     penalty='l2', random_state=None,\n",
              "                                     solver='lbfgs', tol=0.0001, verbose=0,\n",
              "                                     warm_start=False))],\n",
              "          verbose=False), 'rc': Pipeline(memory=None,\n",
              "          steps=[('standardscaler',\n",
              "                  StandardScaler(copy=True, with_mean=True, with_std=True)),\n",
              "                 ('ridgeclassifier',\n",
              "                  RidgeClassifier(alpha=1.0, class_weight=None, copy_X=True,\n",
              "                                  fit_intercept=True, max_iter=None,\n",
              "                                  normalize=False, random_state=None,\n",
              "                                  solver='auto', tol=0.001))],\n",
              "          verbose=False), 'rf': Pipeline(memory=None,\n",
              "          steps=[('standardscaler',\n",
              "                  StandardScaler(copy=True, with_mean=True, with_std=True)),\n",
              "                 ('randomforestclassifier',\n",
              "                  RandomForestClassifier(bootstrap=True, ccp_alpha=0.0,\n",
              "                                         class_weight=None, criterion='gini',\n",
              "                                         max_depth=None, max_features='auto',\n",
              "                                         max_leaf_nodes=None, max_samples=None,\n",
              "                                         min_impurity_decrease=0.0,\n",
              "                                         min_impurity_split=None,\n",
              "                                         min_samples_leaf=1, min_samples_split=2,\n",
              "                                         min_weight_fraction_leaf=0.0,\n",
              "                                         n_estimators=100, n_jobs=None,\n",
              "                                         oob_score=False, random_state=None,\n",
              "                                         verbose=0, warm_start=False))],\n",
              "          verbose=False), 'xgb': Pipeline(memory=None,\n",
              "          steps=[('standardscaler',\n",
              "                  StandardScaler(copy=True, with_mean=True, with_std=True)),\n",
              "                 ('xgbclassifier',\n",
              "                  XGBClassifier(base_score=0.5, booster='gbtree',\n",
              "                                colsample_bylevel=1, colsample_bynode=1,\n",
              "                                colsample_bytree=1, gamma=0, learning_rate=0.1,\n",
              "                                max_delta_step=0, max_depth=3,\n",
              "                                min_child_weight=1, missing=None,\n",
              "                                n_estimators=100, n_jobs=1, nthread=None,\n",
              "                                objective='multi:softprob', random_state=0,\n",
              "                                reg_alpha=0, reg_lambda=1, scale_pos_weight=1,\n",
              "                                seed=None, silent=None, subsample=1,\n",
              "                                verbosity=1))],\n",
              "          verbose=False)}"
            ]
          },
          "metadata": {},
          "execution_count": 39
        }
      ]
    },
    {
      "cell_type": "code",
      "metadata": {
        "colab": {
          "base_uri": "https://localhost:8080/"
        },
        "id": "6GYTjwfTRfIZ",
        "outputId": "94e23ec5-7f20-4841-a526-eba45d837ecf"
      },
      "source": [
        "from sklearn.metrics import accuracy_score, plot_confusion_matrix, multilabel_confusion_matrix\n",
        "# 모두 정확도가 100프로\n",
        "for i, train_model in fit_models.items():\n",
        "  pred = train_model.predict(X_test)\n",
        "  print(i, accuracy_score(y_test, pred))"
      ],
      "execution_count": 40,
      "outputs": [
        {
          "output_type": "stream",
          "name": "stdout",
          "text": [
            "lr 1.0\n",
            "rc 1.0\n",
            "rf 1.0\n",
            "xgb 1.0\n"
          ]
        }
      ]
    },
    {
      "cell_type": "code",
      "metadata": {
        "colab": {
          "base_uri": "https://localhost:8080/",
          "height": 472
        },
        "id": "H0zmO1oOTt89",
        "outputId": "388271b7-841b-4845-f773-c96d1451bba5"
      },
      "source": [
        "import matplotlib.pyplot as plt\n",
        "\n",
        "fig, ax = plt.subplots(figsize=(8, 8))\n",
        "\n",
        "pcm = plot_confusion_matrix(fit_models['rf'], X_test, y_test,\n",
        "                            cmap=plt.cm.Blues,\n",
        "                            ax=ax);\n",
        "plt.title(f'Confusion matrix, n = {len(y_test)}', fontsize=15)\n",
        "plt.show()"
      ],
      "execution_count": 51,
      "outputs": [
        {
          "output_type": "display_data",
          "data": {
            "image/png": "[encoded data removed]",
            "text/plain": [
              "<Figure size 576x576 with 2 Axes>"
            ]
          },
          "metadata": {
            "needs_background": "light"
          }
        }
      ]
    },
    {
      "cell_type": "code",
      "metadata": {
        "colab": {
          "base_uri": "https://localhost:8080/"
        },
        "id": "A-j6gXzRVKME",
        "outputId": "938a97e0-ffdf-4758-8d60-9649a6a79d33"
      },
      "source": [
        "y_pred = fit_models['rf'].predict(X_test)\n",
        "multilabel_confusion_matrix(y_test, y_pred)"
      ],
      "execution_count": 52,
      "outputs": [
        {
          "output_type": "execute_result",
          "data": {
            "text/plain": [
              "array([[[354,   0],\n",
              "        [  0, 186]],\n",
              "\n",
              "       [[360,   0],\n",
              "        [  0, 180]],\n",
              "\n",
              "       [[366,   0],\n",
              "        [  0, 174]]])"
            ]
          },
          "metadata": {},
          "execution_count": 52
        }
      ]
    },
    {
      "cell_type": "code",
      "metadata": {
        "colab": {
          "base_uri": "https://localhost:8080/"
        },
        "id": "UQCpYsBrVwLB",
        "outputId": "2bdf39e7-541e-4ac4-8869-2e949523ee40"
      },
      "source": [
        "y_pred"
      ],
      "execution_count": 53,
      "outputs": [
        {
          "output_type": "execute_result",
          "data": {
            "text/plain": [
              "array([0., 0., 2., 1., 0., 2., 1., 0., 1., 1., 0., 1., 0., 1., 1., 0., 0.,\n",
              "       2., 2., 1., 1., 0., 1., 0., 2., 2., 0., 1., 1., 2., 0., 1., 2., 0.,\n",
              "       2., 2., 0., 1., 1., 0., 0., 2., 0., 1., 2., 1., 1., 0., 1., 0., 2.,\n",
              "       0., 1., 0., 2., 2., 1., 1., 1., 2., 1., 0., 2., 1., 1., 0., 1., 0.,\n",
              "       0., 2., 0., 2., 0., 1., 1., 2., 1., 1., 2., 0., 1., 2., 2., 2., 0.,\n",
              "       1., 0., 1., 1., 2., 0., 0., 1., 2., 1., 2., 0., 2., 1., 1., 2., 0.,\n",
              "       0., 1., 0., 0., 2., 2., 1., 1., 2., 0., 0., 0., 1., 1., 1., 0., 2.,\n",
              "       2., 0., 2., 1., 0., 2., 0., 2., 1., 0., 2., 1., 2., 0., 2., 1., 1.,\n",
              "       1., 0., 1., 0., 0., 2., 1., 2., 2., 1., 2., 0., 2., 0., 2., 1., 1.,\n",
              "       2., 1., 1., 0., 1., 2., 2., 1., 1., 1., 2., 2., 1., 0., 0., 2., 1.,\n",
              "       1., 0., 0., 0., 0., 1., 1., 2., 2., 2., 0., 0., 1., 2., 0., 1., 0.,\n",
              "       2., 2., 1., 0., 0., 2., 1., 2., 2., 1., 2., 2., 2., 1., 0., 0., 1.,\n",
              "       0., 1., 2., 2., 0., 1., 0., 0., 0., 2., 0., 1., 0., 1., 0., 1., 2.,\n",
              "       0., 0., 0., 2., 2., 0., 2., 2., 1., 0., 1., 1., 2., 2., 2., 2., 0.,\n",
              "       2., 2., 1., 0., 1., 0., 1., 1., 0., 2., 0., 0., 1., 1., 1., 1., 2.,\n",
              "       0., 1., 2., 1., 2., 0., 2., 2., 1., 2., 0., 0., 0., 1., 2., 2., 2.,\n",
              "       1., 1., 2., 2., 1., 1., 0., 0., 1., 0., 2., 2., 2., 0., 2., 0., 2.,\n",
              "       0., 1., 1., 2., 1., 0., 0., 2., 2., 2., 1., 1., 0., 0., 2., 2., 2.,\n",
              "       1., 1., 2., 1., 2., 0., 0., 0., 0., 1., 0., 0., 1., 0., 2., 0., 1.,\n",
              "       0., 0., 2., 0., 1., 2., 1., 1., 0., 2., 1., 1., 0., 0., 0., 0., 0.,\n",
              "       0., 2., 2., 2., 1., 2., 0., 0., 1., 2., 2., 1., 1., 2., 2., 0., 0.,\n",
              "       1., 2., 0., 1., 0., 2., 1., 1., 2., 0., 1., 1., 2., 1., 0., 0., 1.,\n",
              "       0., 1., 0., 1., 0., 0., 1., 1., 0., 0., 1., 0., 2., 2., 0., 2., 0.,\n",
              "       2., 2., 2., 0., 0., 0., 2., 2., 0., 0., 0., 2., 2., 2., 0., 0., 2.,\n",
              "       0., 1., 0., 1., 1., 1., 1., 2., 2., 2., 1., 1., 1., 0., 1., 2., 1.,\n",
              "       1., 0., 0., 1., 2., 0., 1., 0., 1., 1., 2., 0., 0., 2., 1., 0., 2.,\n",
              "       2., 2., 1., 1., 2., 1., 1., 0., 0., 1., 0., 2., 2., 0., 1., 1., 2.,\n",
              "       0., 2., 1., 2., 0., 1., 1., 2., 2., 0., 0., 1., 0., 1., 1., 1., 2.,\n",
              "       1., 0., 2., 0., 0., 2., 2., 0., 1., 2., 0., 2., 1., 1., 1., 2., 1.,\n",
              "       2., 1., 2., 2., 2., 0., 1., 0., 2., 0., 2., 0., 0., 2., 0., 1., 2.,\n",
              "       0., 0., 1., 1., 0., 1., 0., 0., 2., 0., 1., 2., 0., 2., 0., 0., 2.,\n",
              "       0., 2., 1., 1., 0., 2., 1., 0., 2., 2., 1., 1., 2.])"
            ]
          },
          "metadata": {},
          "execution_count": 53
        }
      ]
    },
    {
      "cell_type": "code",
      "metadata": {
        "id": "zWn77OTrXse4"
      },
      "source": [
        "# 파일 저장\n",
        "import pickle\n",
        "\n",
        "with open('rf.pkl', 'wb') as f: # wb = 바이너리 쓰기모드\n",
        "  pickle.dump(fit_models['rf'], f)"
      ],
      "execution_count": 54,
      "outputs": []
    }
  ]
}